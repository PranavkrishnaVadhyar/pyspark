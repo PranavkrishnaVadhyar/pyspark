{
  "nbformat": 4,
  "nbformat_minor": 0,
  "metadata": {
    "colab": {
      "provenance": [],
      "authorship_tag": "ABX9TyN86IrFBhz2u4btxIDktPAZ",
      "include_colab_link": true
    },
    "kernelspec": {
      "name": "python3",
      "display_name": "Python 3"
    },
    "language_info": {
      "name": "python"
    }
  },
  "cells": [
    {
      "cell_type": "markdown",
      "metadata": {
        "id": "view-in-github",
        "colab_type": "text"
      },
      "source": [
        "<a href=\"https://colab.research.google.com/github/PranavkrishnaVadhyar/pyspark/blob/main/main.ipynb\" target=\"_parent\"><img src=\"https://colab.research.google.com/assets/colab-badge.svg\" alt=\"Open In Colab\"/></a>"
      ]
    },
    {
      "cell_type": "code",
      "source": [
        "!pip install pyspark\n",
        "!pip install opendatasets"
      ],
      "metadata": {
        "id": "5iyh-13DqUUo",
        "colab": {
          "base_uri": "https://localhost:8080/"
        },
        "outputId": "a2023d0f-7282-4dae-d2c7-54737c946dc7"
      },
      "execution_count": 1,
      "outputs": [
        {
          "output_type": "stream",
          "name": "stdout",
          "text": [
            "Looking in indexes: https://pypi.org/simple, https://us-python.pkg.dev/colab-wheels/public/simple/\n",
            "Collecting pyspark\n",
            "  Downloading pyspark-3.3.2.tar.gz (281.4 MB)\n",
            "\u001b[2K     \u001b[90m━━━━━━━━━━━━━━━━━━━━━━━━━━━━━━━━━━━━━━━\u001b[0m \u001b[32m281.4/281.4 MB\u001b[0m \u001b[31m4.1 MB/s\u001b[0m eta \u001b[36m0:00:00\u001b[0m\n",
            "\u001b[?25h  Preparing metadata (setup.py) ... \u001b[?25l\u001b[?25hdone\n",
            "Collecting py4j==0.10.9.5\n",
            "  Downloading py4j-0.10.9.5-py2.py3-none-any.whl (199 kB)\n",
            "\u001b[2K     \u001b[90m━━━━━━━━━━━━━━━━━━━━━━━━━━━━━━━━━━━━━━\u001b[0m \u001b[32m199.7/199.7 KB\u001b[0m \u001b[31m11.3 MB/s\u001b[0m eta \u001b[36m0:00:00\u001b[0m\n",
            "\u001b[?25hBuilding wheels for collected packages: pyspark\n",
            "  Building wheel for pyspark (setup.py) ... \u001b[?25l\u001b[?25hdone\n",
            "  Created wheel for pyspark: filename=pyspark-3.3.2-py2.py3-none-any.whl size=281824025 sha256=887c19b00a7d33dc12de9e33dcdd2bc3f44d9d7d2b0fd9721b986ae702e16b7d\n",
            "  Stored in directory: /root/.cache/pip/wheels/6c/e3/9b/0525ce8a69478916513509d43693511463c6468db0de237c86\n",
            "Successfully built pyspark\n",
            "Installing collected packages: py4j, pyspark\n",
            "Successfully installed py4j-0.10.9.5 pyspark-3.3.2\n",
            "Looking in indexes: https://pypi.org/simple, https://us-python.pkg.dev/colab-wheels/public/simple/\n",
            "Collecting opendatasets\n",
            "  Downloading opendatasets-0.1.22-py3-none-any.whl (15 kB)\n",
            "Requirement already satisfied: click in /usr/local/lib/python3.9/dist-packages (from opendatasets) (8.1.3)\n",
            "Requirement already satisfied: kaggle in /usr/local/lib/python3.9/dist-packages (from opendatasets) (1.5.13)\n",
            "Requirement already satisfied: tqdm in /usr/local/lib/python3.9/dist-packages (from opendatasets) (4.65.0)\n",
            "Requirement already satisfied: urllib3 in /usr/local/lib/python3.9/dist-packages (from kaggle->opendatasets) (1.26.14)\n",
            "Requirement already satisfied: python-dateutil in /usr/local/lib/python3.9/dist-packages (from kaggle->opendatasets) (2.8.2)\n",
            "Requirement already satisfied: six>=1.10 in /usr/local/lib/python3.9/dist-packages (from kaggle->opendatasets) (1.15.0)\n",
            "Requirement already satisfied: certifi in /usr/local/lib/python3.9/dist-packages (from kaggle->opendatasets) (2022.12.7)\n",
            "Requirement already satisfied: python-slugify in /usr/local/lib/python3.9/dist-packages (from kaggle->opendatasets) (8.0.1)\n",
            "Requirement already satisfied: requests in /usr/local/lib/python3.9/dist-packages (from kaggle->opendatasets) (2.25.1)\n",
            "Requirement already satisfied: text-unidecode>=1.3 in /usr/local/lib/python3.9/dist-packages (from python-slugify->kaggle->opendatasets) (1.3)\n",
            "Requirement already satisfied: idna<3,>=2.5 in /usr/local/lib/python3.9/dist-packages (from requests->kaggle->opendatasets) (2.10)\n",
            "Requirement already satisfied: chardet<5,>=3.0.2 in /usr/local/lib/python3.9/dist-packages (from requests->kaggle->opendatasets) (4.0.0)\n",
            "Installing collected packages: opendatasets\n",
            "Successfully installed opendatasets-0.1.22\n"
          ]
        }
      ]
    },
    {
      "cell_type": "code",
      "source": [
        "from  google.colab import files\n",
        "\n",
        "uploaded = files.upload()"
      ],
      "metadata": {
        "colab": {
          "base_uri": "https://localhost:8080/",
          "height": 73
        },
        "id": "RrugPk_IzRZb",
        "outputId": "cd8b7494-217c-4974-a2ea-c6e511add3f3"
      },
      "execution_count": 2,
      "outputs": [
        {
          "output_type": "display_data",
          "data": {
            "text/plain": [
              "<IPython.core.display.HTML object>"
            ],
            "text/html": [
              "\n",
              "     <input type=\"file\" id=\"files-893fadcc-07c4-47d2-9a4d-d5337935dbac\" name=\"files[]\" multiple disabled\n",
              "        style=\"border:none\" />\n",
              "     <output id=\"result-893fadcc-07c4-47d2-9a4d-d5337935dbac\">\n",
              "      Upload widget is only available when the cell has been executed in the\n",
              "      current browser session. Please rerun this cell to enable.\n",
              "      </output>\n",
              "      <script>// Copyright 2017 Google LLC\n",
              "//\n",
              "// Licensed under the Apache License, Version 2.0 (the \"License\");\n",
              "// you may not use this file except in compliance with the License.\n",
              "// You may obtain a copy of the License at\n",
              "//\n",
              "//      http://www.apache.org/licenses/LICENSE-2.0\n",
              "//\n",
              "// Unless required by applicable law or agreed to in writing, software\n",
              "// distributed under the License is distributed on an \"AS IS\" BASIS,\n",
              "// WITHOUT WARRANTIES OR CONDITIONS OF ANY KIND, either express or implied.\n",
              "// See the License for the specific language governing permissions and\n",
              "// limitations under the License.\n",
              "\n",
              "/**\n",
              " * @fileoverview Helpers for google.colab Python module.\n",
              " */\n",
              "(function(scope) {\n",
              "function span(text, styleAttributes = {}) {\n",
              "  const element = document.createElement('span');\n",
              "  element.textContent = text;\n",
              "  for (const key of Object.keys(styleAttributes)) {\n",
              "    element.style[key] = styleAttributes[key];\n",
              "  }\n",
              "  return element;\n",
              "}\n",
              "\n",
              "// Max number of bytes which will be uploaded at a time.\n",
              "const MAX_PAYLOAD_SIZE = 100 * 1024;\n",
              "\n",
              "function _uploadFiles(inputId, outputId) {\n",
              "  const steps = uploadFilesStep(inputId, outputId);\n",
              "  const outputElement = document.getElementById(outputId);\n",
              "  // Cache steps on the outputElement to make it available for the next call\n",
              "  // to uploadFilesContinue from Python.\n",
              "  outputElement.steps = steps;\n",
              "\n",
              "  return _uploadFilesContinue(outputId);\n",
              "}\n",
              "\n",
              "// This is roughly an async generator (not supported in the browser yet),\n",
              "// where there are multiple asynchronous steps and the Python side is going\n",
              "// to poll for completion of each step.\n",
              "// This uses a Promise to block the python side on completion of each step,\n",
              "// then passes the result of the previous step as the input to the next step.\n",
              "function _uploadFilesContinue(outputId) {\n",
              "  const outputElement = document.getElementById(outputId);\n",
              "  const steps = outputElement.steps;\n",
              "\n",
              "  const next = steps.next(outputElement.lastPromiseValue);\n",
              "  return Promise.resolve(next.value.promise).then((value) => {\n",
              "    // Cache the last promise value to make it available to the next\n",
              "    // step of the generator.\n",
              "    outputElement.lastPromiseValue = value;\n",
              "    return next.value.response;\n",
              "  });\n",
              "}\n",
              "\n",
              "/**\n",
              " * Generator function which is called between each async step of the upload\n",
              " * process.\n",
              " * @param {string} inputId Element ID of the input file picker element.\n",
              " * @param {string} outputId Element ID of the output display.\n",
              " * @return {!Iterable<!Object>} Iterable of next steps.\n",
              " */\n",
              "function* uploadFilesStep(inputId, outputId) {\n",
              "  const inputElement = document.getElementById(inputId);\n",
              "  inputElement.disabled = false;\n",
              "\n",
              "  const outputElement = document.getElementById(outputId);\n",
              "  outputElement.innerHTML = '';\n",
              "\n",
              "  const pickedPromise = new Promise((resolve) => {\n",
              "    inputElement.addEventListener('change', (e) => {\n",
              "      resolve(e.target.files);\n",
              "    });\n",
              "  });\n",
              "\n",
              "  const cancel = document.createElement('button');\n",
              "  inputElement.parentElement.appendChild(cancel);\n",
              "  cancel.textContent = 'Cancel upload';\n",
              "  const cancelPromise = new Promise((resolve) => {\n",
              "    cancel.onclick = () => {\n",
              "      resolve(null);\n",
              "    };\n",
              "  });\n",
              "\n",
              "  // Wait for the user to pick the files.\n",
              "  const files = yield {\n",
              "    promise: Promise.race([pickedPromise, cancelPromise]),\n",
              "    response: {\n",
              "      action: 'starting',\n",
              "    }\n",
              "  };\n",
              "\n",
              "  cancel.remove();\n",
              "\n",
              "  // Disable the input element since further picks are not allowed.\n",
              "  inputElement.disabled = true;\n",
              "\n",
              "  if (!files) {\n",
              "    return {\n",
              "      response: {\n",
              "        action: 'complete',\n",
              "      }\n",
              "    };\n",
              "  }\n",
              "\n",
              "  for (const file of files) {\n",
              "    const li = document.createElement('li');\n",
              "    li.append(span(file.name, {fontWeight: 'bold'}));\n",
              "    li.append(span(\n",
              "        `(${file.type || 'n/a'}) - ${file.size} bytes, ` +\n",
              "        `last modified: ${\n",
              "            file.lastModifiedDate ? file.lastModifiedDate.toLocaleDateString() :\n",
              "                                    'n/a'} - `));\n",
              "    const percent = span('0% done');\n",
              "    li.appendChild(percent);\n",
              "\n",
              "    outputElement.appendChild(li);\n",
              "\n",
              "    const fileDataPromise = new Promise((resolve) => {\n",
              "      const reader = new FileReader();\n",
              "      reader.onload = (e) => {\n",
              "        resolve(e.target.result);\n",
              "      };\n",
              "      reader.readAsArrayBuffer(file);\n",
              "    });\n",
              "    // Wait for the data to be ready.\n",
              "    let fileData = yield {\n",
              "      promise: fileDataPromise,\n",
              "      response: {\n",
              "        action: 'continue',\n",
              "      }\n",
              "    };\n",
              "\n",
              "    // Use a chunked sending to avoid message size limits. See b/62115660.\n",
              "    let position = 0;\n",
              "    do {\n",
              "      const length = Math.min(fileData.byteLength - position, MAX_PAYLOAD_SIZE);\n",
              "      const chunk = new Uint8Array(fileData, position, length);\n",
              "      position += length;\n",
              "\n",
              "      const base64 = btoa(String.fromCharCode.apply(null, chunk));\n",
              "      yield {\n",
              "        response: {\n",
              "          action: 'append',\n",
              "          file: file.name,\n",
              "          data: base64,\n",
              "        },\n",
              "      };\n",
              "\n",
              "      let percentDone = fileData.byteLength === 0 ?\n",
              "          100 :\n",
              "          Math.round((position / fileData.byteLength) * 100);\n",
              "      percent.textContent = `${percentDone}% done`;\n",
              "\n",
              "    } while (position < fileData.byteLength);\n",
              "  }\n",
              "\n",
              "  // All done.\n",
              "  yield {\n",
              "    response: {\n",
              "      action: 'complete',\n",
              "    }\n",
              "  };\n",
              "}\n",
              "\n",
              "scope.google = scope.google || {};\n",
              "scope.google.colab = scope.google.colab || {};\n",
              "scope.google.colab._files = {\n",
              "  _uploadFiles,\n",
              "  _uploadFilesContinue,\n",
              "};\n",
              "})(self);\n",
              "</script> "
            ]
          },
          "metadata": {}
        },
        {
          "output_type": "stream",
          "name": "stdout",
          "text": [
            "Saving Fifa13.csv to Fifa13.csv\n"
          ]
        }
      ]
    },
    {
      "cell_type": "code",
      "source": [
        "import pyspark\n",
        "import pandas as pd\n",
        "import io"
      ],
      "metadata": {
        "id": "rLmOEcMZqjBz"
      },
      "execution_count": 3,
      "outputs": []
    },
    {
      "cell_type": "code",
      "source": [
        "\n",
        "pd.read_csv(io.BytesIO(uploaded['Fifa13.csv']))"
      ],
      "metadata": {
        "id": "VIxXX3URqmHr",
        "colab": {
          "base_uri": "https://localhost:8080/",
          "height": 424
        },
        "outputId": "522f9d68-c9f3-45d2-9f10-0dc89d978125"
      },
      "execution_count": 4,
      "outputs": [
        {
          "output_type": "execute_result",
          "data": {
            "text/plain": [
              "                    Name  Rtg  Pos      Card          Nation  PAC  SHO  PAS  \\\n",
              "0           Lionel Messi   98   CF      toty       Argentina   97   96   92   \n",
              "1           Lionel Messi   97   CF  goldblue       Argentina   96   96   90   \n",
              "2      Cristiano Ronaldo   97   LW      toty        Portugal   96   96   86   \n",
              "3      Cristiano Ronaldo   96   LW  goldblue        Portugal   95   96   85   \n",
              "4                Iniesta   96   CM      toty           Spain   79   76   99   \n",
              "...                  ...  ...  ...       ...             ...  ...  ...  ...   \n",
              "12081        Park Yo Han   43   RB    bronze  Korea Republic   51   25   35   \n",
              "12082          Max Power   43   CM    bronze         England   60   44   45   \n",
              "12083         Jamie Reid   41   ST    bronze         England   58   37   30   \n",
              "12084         Luke Roper   40  CDM    bronze         England   43   29   39   \n",
              "12085        Alex Cooper   40   CM    bronze        Scotland   67   34   41   \n",
              "\n",
              "       DRI  DEF  PHY                                               Link  \n",
              "0       99   48   76     https://wefut.com/player/13/11598/lionel-messi  \n",
              "1       98   47   75     https://wefut.com/player/13/13232/lionel-messi  \n",
              "2       97   53   92  https://wefut.com/player/13/11599/cristiano-ro...  \n",
              "3       95   52   91  https://wefut.com/player/13/13233/cristiano-ro...  \n",
              "4       97   71   60          https://wefut.com/player/13/11594/iniesta  \n",
              "...    ...  ...  ...                                                ...  \n",
              "12081   27   44   59       https://wefut.com/player/13/9152/park-yo-han  \n",
              "12082   44   41   52         https://wefut.com/player/13/8795/max-power  \n",
              "12083   37   28   42        https://wefut.com/player/13/9882/jamie-reid  \n",
              "12084   34   40   43       https://wefut.com/player/13/10411/luke-roper  \n",
              "12085   42   34   35       https://wefut.com/player/13/9454/alex-cooper  \n",
              "\n",
              "[12086 rows x 12 columns]"
            ],
            "text/html": [
              "\n",
              "  <div id=\"df-ab22f795-8028-4885-80ea-c095a7a06a55\">\n",
              "    <div class=\"colab-df-container\">\n",
              "      <div>\n",
              "<style scoped>\n",
              "    .dataframe tbody tr th:only-of-type {\n",
              "        vertical-align: middle;\n",
              "    }\n",
              "\n",
              "    .dataframe tbody tr th {\n",
              "        vertical-align: top;\n",
              "    }\n",
              "\n",
              "    .dataframe thead th {\n",
              "        text-align: right;\n",
              "    }\n",
              "</style>\n",
              "<table border=\"1\" class=\"dataframe\">\n",
              "  <thead>\n",
              "    <tr style=\"text-align: right;\">\n",
              "      <th></th>\n",
              "      <th>Name</th>\n",
              "      <th>Rtg</th>\n",
              "      <th>Pos</th>\n",
              "      <th>Card</th>\n",
              "      <th>Nation</th>\n",
              "      <th>PAC</th>\n",
              "      <th>SHO</th>\n",
              "      <th>PAS</th>\n",
              "      <th>DRI</th>\n",
              "      <th>DEF</th>\n",
              "      <th>PHY</th>\n",
              "      <th>Link</th>\n",
              "    </tr>\n",
              "  </thead>\n",
              "  <tbody>\n",
              "    <tr>\n",
              "      <th>0</th>\n",
              "      <td>Lionel Messi</td>\n",
              "      <td>98</td>\n",
              "      <td>CF</td>\n",
              "      <td>toty</td>\n",
              "      <td>Argentina</td>\n",
              "      <td>97</td>\n",
              "      <td>96</td>\n",
              "      <td>92</td>\n",
              "      <td>99</td>\n",
              "      <td>48</td>\n",
              "      <td>76</td>\n",
              "      <td>https://wefut.com/player/13/11598/lionel-messi</td>\n",
              "    </tr>\n",
              "    <tr>\n",
              "      <th>1</th>\n",
              "      <td>Lionel Messi</td>\n",
              "      <td>97</td>\n",
              "      <td>CF</td>\n",
              "      <td>goldblue</td>\n",
              "      <td>Argentina</td>\n",
              "      <td>96</td>\n",
              "      <td>96</td>\n",
              "      <td>90</td>\n",
              "      <td>98</td>\n",
              "      <td>47</td>\n",
              "      <td>75</td>\n",
              "      <td>https://wefut.com/player/13/13232/lionel-messi</td>\n",
              "    </tr>\n",
              "    <tr>\n",
              "      <th>2</th>\n",
              "      <td>Cristiano Ronaldo</td>\n",
              "      <td>97</td>\n",
              "      <td>LW</td>\n",
              "      <td>toty</td>\n",
              "      <td>Portugal</td>\n",
              "      <td>96</td>\n",
              "      <td>96</td>\n",
              "      <td>86</td>\n",
              "      <td>97</td>\n",
              "      <td>53</td>\n",
              "      <td>92</td>\n",
              "      <td>https://wefut.com/player/13/11599/cristiano-ro...</td>\n",
              "    </tr>\n",
              "    <tr>\n",
              "      <th>3</th>\n",
              "      <td>Cristiano Ronaldo</td>\n",
              "      <td>96</td>\n",
              "      <td>LW</td>\n",
              "      <td>goldblue</td>\n",
              "      <td>Portugal</td>\n",
              "      <td>95</td>\n",
              "      <td>96</td>\n",
              "      <td>85</td>\n",
              "      <td>95</td>\n",
              "      <td>52</td>\n",
              "      <td>91</td>\n",
              "      <td>https://wefut.com/player/13/13233/cristiano-ro...</td>\n",
              "    </tr>\n",
              "    <tr>\n",
              "      <th>4</th>\n",
              "      <td>Iniesta</td>\n",
              "      <td>96</td>\n",
              "      <td>CM</td>\n",
              "      <td>toty</td>\n",
              "      <td>Spain</td>\n",
              "      <td>79</td>\n",
              "      <td>76</td>\n",
              "      <td>99</td>\n",
              "      <td>97</td>\n",
              "      <td>71</td>\n",
              "      <td>60</td>\n",
              "      <td>https://wefut.com/player/13/11594/iniesta</td>\n",
              "    </tr>\n",
              "    <tr>\n",
              "      <th>...</th>\n",
              "      <td>...</td>\n",
              "      <td>...</td>\n",
              "      <td>...</td>\n",
              "      <td>...</td>\n",
              "      <td>...</td>\n",
              "      <td>...</td>\n",
              "      <td>...</td>\n",
              "      <td>...</td>\n",
              "      <td>...</td>\n",
              "      <td>...</td>\n",
              "      <td>...</td>\n",
              "      <td>...</td>\n",
              "    </tr>\n",
              "    <tr>\n",
              "      <th>12081</th>\n",
              "      <td>Park Yo Han</td>\n",
              "      <td>43</td>\n",
              "      <td>RB</td>\n",
              "      <td>bronze</td>\n",
              "      <td>Korea Republic</td>\n",
              "      <td>51</td>\n",
              "      <td>25</td>\n",
              "      <td>35</td>\n",
              "      <td>27</td>\n",
              "      <td>44</td>\n",
              "      <td>59</td>\n",
              "      <td>https://wefut.com/player/13/9152/park-yo-han</td>\n",
              "    </tr>\n",
              "    <tr>\n",
              "      <th>12082</th>\n",
              "      <td>Max Power</td>\n",
              "      <td>43</td>\n",
              "      <td>CM</td>\n",
              "      <td>bronze</td>\n",
              "      <td>England</td>\n",
              "      <td>60</td>\n",
              "      <td>44</td>\n",
              "      <td>45</td>\n",
              "      <td>44</td>\n",
              "      <td>41</td>\n",
              "      <td>52</td>\n",
              "      <td>https://wefut.com/player/13/8795/max-power</td>\n",
              "    </tr>\n",
              "    <tr>\n",
              "      <th>12083</th>\n",
              "      <td>Jamie Reid</td>\n",
              "      <td>41</td>\n",
              "      <td>ST</td>\n",
              "      <td>bronze</td>\n",
              "      <td>England</td>\n",
              "      <td>58</td>\n",
              "      <td>37</td>\n",
              "      <td>30</td>\n",
              "      <td>37</td>\n",
              "      <td>28</td>\n",
              "      <td>42</td>\n",
              "      <td>https://wefut.com/player/13/9882/jamie-reid</td>\n",
              "    </tr>\n",
              "    <tr>\n",
              "      <th>12084</th>\n",
              "      <td>Luke Roper</td>\n",
              "      <td>40</td>\n",
              "      <td>CDM</td>\n",
              "      <td>bronze</td>\n",
              "      <td>England</td>\n",
              "      <td>43</td>\n",
              "      <td>29</td>\n",
              "      <td>39</td>\n",
              "      <td>34</td>\n",
              "      <td>40</td>\n",
              "      <td>43</td>\n",
              "      <td>https://wefut.com/player/13/10411/luke-roper</td>\n",
              "    </tr>\n",
              "    <tr>\n",
              "      <th>12085</th>\n",
              "      <td>Alex Cooper</td>\n",
              "      <td>40</td>\n",
              "      <td>CM</td>\n",
              "      <td>bronze</td>\n",
              "      <td>Scotland</td>\n",
              "      <td>67</td>\n",
              "      <td>34</td>\n",
              "      <td>41</td>\n",
              "      <td>42</td>\n",
              "      <td>34</td>\n",
              "      <td>35</td>\n",
              "      <td>https://wefut.com/player/13/9454/alex-cooper</td>\n",
              "    </tr>\n",
              "  </tbody>\n",
              "</table>\n",
              "<p>12086 rows × 12 columns</p>\n",
              "</div>\n",
              "      <button class=\"colab-df-convert\" onclick=\"convertToInteractive('df-ab22f795-8028-4885-80ea-c095a7a06a55')\"\n",
              "              title=\"Convert this dataframe to an interactive table.\"\n",
              "              style=\"display:none;\">\n",
              "        \n",
              "  <svg xmlns=\"http://www.w3.org/2000/svg\" height=\"24px\"viewBox=\"0 0 24 24\"\n",
              "       width=\"24px\">\n",
              "    <path d=\"M0 0h24v24H0V0z\" fill=\"none\"/>\n",
              "    <path d=\"M18.56 5.44l.94 2.06.94-2.06 2.06-.94-2.06-.94-.94-2.06-.94 2.06-2.06.94zm-11 1L8.5 8.5l.94-2.06 2.06-.94-2.06-.94L8.5 2.5l-.94 2.06-2.06.94zm10 10l.94 2.06.94-2.06 2.06-.94-2.06-.94-.94-2.06-.94 2.06-2.06.94z\"/><path d=\"M17.41 7.96l-1.37-1.37c-.4-.4-.92-.59-1.43-.59-.52 0-1.04.2-1.43.59L10.3 9.45l-7.72 7.72c-.78.78-.78 2.05 0 2.83L4 21.41c.39.39.9.59 1.41.59.51 0 1.02-.2 1.41-.59l7.78-7.78 2.81-2.81c.8-.78.8-2.07 0-2.86zM5.41 20L4 18.59l7.72-7.72 1.47 1.35L5.41 20z\"/>\n",
              "  </svg>\n",
              "      </button>\n",
              "      \n",
              "  <style>\n",
              "    .colab-df-container {\n",
              "      display:flex;\n",
              "      flex-wrap:wrap;\n",
              "      gap: 12px;\n",
              "    }\n",
              "\n",
              "    .colab-df-convert {\n",
              "      background-color: #E8F0FE;\n",
              "      border: none;\n",
              "      border-radius: 50%;\n",
              "      cursor: pointer;\n",
              "      display: none;\n",
              "      fill: #1967D2;\n",
              "      height: 32px;\n",
              "      padding: 0 0 0 0;\n",
              "      width: 32px;\n",
              "    }\n",
              "\n",
              "    .colab-df-convert:hover {\n",
              "      background-color: #E2EBFA;\n",
              "      box-shadow: 0px 1px 2px rgba(60, 64, 67, 0.3), 0px 1px 3px 1px rgba(60, 64, 67, 0.15);\n",
              "      fill: #174EA6;\n",
              "    }\n",
              "\n",
              "    [theme=dark] .colab-df-convert {\n",
              "      background-color: #3B4455;\n",
              "      fill: #D2E3FC;\n",
              "    }\n",
              "\n",
              "    [theme=dark] .colab-df-convert:hover {\n",
              "      background-color: #434B5C;\n",
              "      box-shadow: 0px 1px 3px 1px rgba(0, 0, 0, 0.15);\n",
              "      filter: drop-shadow(0px 1px 2px rgba(0, 0, 0, 0.3));\n",
              "      fill: #FFFFFF;\n",
              "    }\n",
              "  </style>\n",
              "\n",
              "      <script>\n",
              "        const buttonEl =\n",
              "          document.querySelector('#df-ab22f795-8028-4885-80ea-c095a7a06a55 button.colab-df-convert');\n",
              "        buttonEl.style.display =\n",
              "          google.colab.kernel.accessAllowed ? 'block' : 'none';\n",
              "\n",
              "        async function convertToInteractive(key) {\n",
              "          const element = document.querySelector('#df-ab22f795-8028-4885-80ea-c095a7a06a55');\n",
              "          const dataTable =\n",
              "            await google.colab.kernel.invokeFunction('convertToInteractive',\n",
              "                                                     [key], {});\n",
              "          if (!dataTable) return;\n",
              "\n",
              "          const docLinkHtml = 'Like what you see? Visit the ' +\n",
              "            '<a target=\"_blank\" href=https://colab.research.google.com/notebooks/data_table.ipynb>data table notebook</a>'\n",
              "            + ' to learn more about interactive tables.';\n",
              "          element.innerHTML = '';\n",
              "          dataTable['output_type'] = 'display_data';\n",
              "          await google.colab.output.renderOutput(dataTable, element);\n",
              "          const docLink = document.createElement('div');\n",
              "          docLink.innerHTML = docLinkHtml;\n",
              "          element.appendChild(docLink);\n",
              "        }\n",
              "      </script>\n",
              "    </div>\n",
              "  </div>\n",
              "  "
            ]
          },
          "metadata": {},
          "execution_count": 4
        }
      ]
    },
    {
      "cell_type": "code",
      "source": [
        "from pyspark.sql import SparkSession"
      ],
      "metadata": {
        "id": "VFpuyEBur-p9"
      },
      "execution_count": 5,
      "outputs": []
    },
    {
      "cell_type": "code",
      "source": [
        "spark = SparkSession.builder.appName('Practice').getOrCreate()   #create spark session"
      ],
      "metadata": {
        "id": "xQombXtrsFpB"
      },
      "execution_count": 6,
      "outputs": []
    },
    {
      "cell_type": "code",
      "source": [
        "df_pyspark = spark.read.csv('Fifa13.csv')"
      ],
      "metadata": {
        "id": "yqPQLSWYsWZM"
      },
      "execution_count": 7,
      "outputs": []
    },
    {
      "cell_type": "code",
      "source": [
        "df_pyspark.show()"
      ],
      "metadata": {
        "colab": {
          "base_uri": "https://localhost:8080/"
        },
        "id": "nW7hU6TC14ht",
        "outputId": "6969e9c6-a4dd-4368-b66b-e16be548356a"
      },
      "execution_count": 8,
      "outputs": [
        {
          "output_type": "stream",
          "name": "stdout",
          "text": [
            "+------------------+---+---+--------+-----------+---+---+---+---+---+----+--------------------+\n",
            "|               _c0|_c1|_c2|     _c3|        _c4|_c5|_c6|_c7|_c8|_c9|_c10|                _c11|\n",
            "+------------------+---+---+--------+-----------+---+---+---+---+---+----+--------------------+\n",
            "|              Name|Rtg|Pos|    Card|     Nation|PAC|SHO|PAS|DRI|DEF| PHY|                Link|\n",
            "|      Lionel Messi| 98| CF|    toty|  Argentina| 97| 96| 92| 99| 48|  76|https://wefut.com...|\n",
            "|      Lionel Messi| 97| CF|goldblue|  Argentina| 96| 96| 90| 98| 47|  75|https://wefut.com...|\n",
            "| Cristiano Ronaldo| 97| LW|    toty|   Portugal| 96| 96| 86| 97| 53|  92|https://wefut.com...|\n",
            "| Cristiano Ronaldo| 96| LW|goldblue|   Portugal| 95| 96| 85| 95| 52|  91|https://wefut.com...|\n",
            "|           Iniesta| 96| CM|    toty|      Spain| 79| 76| 99| 97| 71|  60|https://wefut.com...|\n",
            "|      Lionel Messi| 96| CF|  goldif|  Argentina| 94| 92| 86| 97| 45|  74|https://wefut.com...|\n",
            "|           Iniesta| 95| CM|goldblue|      Spain| 79| 75| 97| 97| 71|  60|https://wefut.com...|\n",
            "|              Xavi| 95| CM|    toty|      Spain| 71| 79| 98| 93| 72|  58|https://wefut.com...|\n",
            "|      Lionel Messi| 95| CF|  goldif|  Argentina| 93| 90| 85| 96| 44|  73|https://wefut.com...|\n",
            "|              Xavi| 94| CM|goldblue|      Spain| 70| 78| 97| 91| 71|  58|https://wefut.com...|\n",
            "|Zlatan Ibrahimović| 94| ST|goldblue|     Sweden| 83| 96| 86| 92| 56|  85|https://wefut.com...|\n",
            "|     Franck Ribéry| 94| LM|goldblue|     France| 96| 89| 91| 96| 53|  62|https://wefut.com...|\n",
            "|            Falcao| 94| ST|    toty|   Colombia| 83| 90| 63| 83| 57|  96|https://wefut.com...|\n",
            "| Cristiano Ronaldo| 94| LW|  goldif|   Portugal| 94| 93| 83| 94| 50|  90|https://wefut.com...|\n",
            "|      Lionel Messi| 94| CF|goldrare|  Argentina| 93| 88| 84| 96| 43|  72|https://wefut.com...|\n",
            "|            Falcao| 93| ST|goldblue|   Colombia| 82| 89| 62| 83| 56|  95|https://wefut.com...|\n",
            "|       Gareth Bale| 93| LM|goldblue|      Wales| 96| 93| 89| 93| 81|  79|https://wefut.com...|\n",
            "|  Robin van Persie| 93| ST|goldblue|Netherlands| 84| 96| 88| 91| 55|  77|https://wefut.com...|\n",
            "|       Xabi Alonso| 93| CM|    toty|      Spain| 62| 79| 93| 76| 87|  72|https://wefut.com...|\n",
            "+------------------+---+---+--------+-----------+---+---+---+---+---+----+--------------------+\n",
            "only showing top 20 rows\n",
            "\n"
          ]
        }
      ]
    },
    {
      "cell_type": "code",
      "source": [
        "df_pyspark = spark.read.option('header','true').csv('Fifa13.csv')"
      ],
      "metadata": {
        "id": "_H9UBAB_2AX6"
      },
      "execution_count": 9,
      "outputs": []
    },
    {
      "cell_type": "code",
      "source": [
        "type(df_pyspark)"
      ],
      "metadata": {
        "colab": {
          "base_uri": "https://localhost:8080/"
        },
        "id": "rxM5uQxG2ZXE",
        "outputId": "3483970b-0e05-4b5b-8f76-024f1b824604"
      },
      "execution_count": 10,
      "outputs": [
        {
          "output_type": "execute_result",
          "data": {
            "text/plain": [
              "pyspark.sql.dataframe.DataFrame"
            ]
          },
          "metadata": {},
          "execution_count": 10
        }
      ]
    },
    {
      "cell_type": "code",
      "source": [
        "df_pyspark.head()"
      ],
      "metadata": {
        "colab": {
          "base_uri": "https://localhost:8080/"
        },
        "id": "KwzydAW02pcy",
        "outputId": "6f0adcea-cf5a-4d6d-dc3b-3d8274103b4f"
      },
      "execution_count": 11,
      "outputs": [
        {
          "output_type": "execute_result",
          "data": {
            "text/plain": [
              "Row(Name='Lionel Messi', Rtg='98', Pos='CF', Card='toty', Nation='Argentina', PAC='97', SHO='96', PAS='92', DRI='99', DEF='48', PHY='76', Link='https://wefut.com/player/13/11598/lionel-messi')"
            ]
          },
          "metadata": {},
          "execution_count": 11
        }
      ]
    },
    {
      "cell_type": "code",
      "source": [
        "df_pyspark.printSchema()"
      ],
      "metadata": {
        "colab": {
          "base_uri": "https://localhost:8080/"
        },
        "id": "iymBfZIh2vNf",
        "outputId": "000685ce-ed16-4b59-c352-7c3d991e7478"
      },
      "execution_count": 12,
      "outputs": [
        {
          "output_type": "stream",
          "name": "stdout",
          "text": [
            "root\n",
            " |-- Name: string (nullable = true)\n",
            " |-- Rtg: string (nullable = true)\n",
            " |-- Pos: string (nullable = true)\n",
            " |-- Card: string (nullable = true)\n",
            " |-- Nation: string (nullable = true)\n",
            " |-- PAC: string (nullable = true)\n",
            " |-- SHO: string (nullable = true)\n",
            " |-- PAS: string (nullable = true)\n",
            " |-- DRI: string (nullable = true)\n",
            " |-- DEF: string (nullable = true)\n",
            " |-- PHY: string (nullable = true)\n",
            " |-- Link: string (nullable = true)\n",
            "\n"
          ]
        }
      ]
    },
    {
      "cell_type": "code",
      "source": [
        "from pyspark.sql import SparkSession"
      ],
      "metadata": {
        "id": "sYHFeV1K25aj"
      },
      "execution_count": 13,
      "outputs": []
    },
    {
      "cell_type": "code",
      "source": [
        "spark = SparkSession.builder.appName('Dataframe').getOrCreate()"
      ],
      "metadata": {
        "id": "zgNvSCPv3HnT"
      },
      "execution_count": 14,
      "outputs": []
    },
    {
      "cell_type": "code",
      "source": [
        "## read data set\n",
        "\n",
        "df_pyspark = spark.read.options().csv('Fifa13.csv').show()  #reading with first row as header"
      ],
      "metadata": {
        "colab": {
          "base_uri": "https://localhost:8080/"
        },
        "id": "_vxcWQHX3H4D",
        "outputId": "a974ac9d-a1e3-4f7a-9af3-f5381c1f843b"
      },
      "execution_count": 15,
      "outputs": [
        {
          "output_type": "stream",
          "name": "stdout",
          "text": [
            "+------------------+---+---+--------+-----------+---+---+---+---+---+----+--------------------+\n",
            "|               _c0|_c1|_c2|     _c3|        _c4|_c5|_c6|_c7|_c8|_c9|_c10|                _c11|\n",
            "+------------------+---+---+--------+-----------+---+---+---+---+---+----+--------------------+\n",
            "|              Name|Rtg|Pos|    Card|     Nation|PAC|SHO|PAS|DRI|DEF| PHY|                Link|\n",
            "|      Lionel Messi| 98| CF|    toty|  Argentina| 97| 96| 92| 99| 48|  76|https://wefut.com...|\n",
            "|      Lionel Messi| 97| CF|goldblue|  Argentina| 96| 96| 90| 98| 47|  75|https://wefut.com...|\n",
            "| Cristiano Ronaldo| 97| LW|    toty|   Portugal| 96| 96| 86| 97| 53|  92|https://wefut.com...|\n",
            "| Cristiano Ronaldo| 96| LW|goldblue|   Portugal| 95| 96| 85| 95| 52|  91|https://wefut.com...|\n",
            "|           Iniesta| 96| CM|    toty|      Spain| 79| 76| 99| 97| 71|  60|https://wefut.com...|\n",
            "|      Lionel Messi| 96| CF|  goldif|  Argentina| 94| 92| 86| 97| 45|  74|https://wefut.com...|\n",
            "|           Iniesta| 95| CM|goldblue|      Spain| 79| 75| 97| 97| 71|  60|https://wefut.com...|\n",
            "|              Xavi| 95| CM|    toty|      Spain| 71| 79| 98| 93| 72|  58|https://wefut.com...|\n",
            "|      Lionel Messi| 95| CF|  goldif|  Argentina| 93| 90| 85| 96| 44|  73|https://wefut.com...|\n",
            "|              Xavi| 94| CM|goldblue|      Spain| 70| 78| 97| 91| 71|  58|https://wefut.com...|\n",
            "|Zlatan Ibrahimović| 94| ST|goldblue|     Sweden| 83| 96| 86| 92| 56|  85|https://wefut.com...|\n",
            "|     Franck Ribéry| 94| LM|goldblue|     France| 96| 89| 91| 96| 53|  62|https://wefut.com...|\n",
            "|            Falcao| 94| ST|    toty|   Colombia| 83| 90| 63| 83| 57|  96|https://wefut.com...|\n",
            "| Cristiano Ronaldo| 94| LW|  goldif|   Portugal| 94| 93| 83| 94| 50|  90|https://wefut.com...|\n",
            "|      Lionel Messi| 94| CF|goldrare|  Argentina| 93| 88| 84| 96| 43|  72|https://wefut.com...|\n",
            "|            Falcao| 93| ST|goldblue|   Colombia| 82| 89| 62| 83| 56|  95|https://wefut.com...|\n",
            "|       Gareth Bale| 93| LM|goldblue|      Wales| 96| 93| 89| 93| 81|  79|https://wefut.com...|\n",
            "|  Robin van Persie| 93| ST|goldblue|Netherlands| 84| 96| 88| 91| 55|  77|https://wefut.com...|\n",
            "|       Xabi Alonso| 93| CM|    toty|      Spain| 62| 79| 93| 76| 87|  72|https://wefut.com...|\n",
            "+------------------+---+---+--------+-----------+---+---+---+---+---+----+--------------------+\n",
            "only showing top 20 rows\n",
            "\n"
          ]
        }
      ]
    },
    {
      "cell_type": "code",
      "source": [
        "df_pyspark = spark.read.options().csv('Fifa13.csv', inferSchema=True)"
      ],
      "metadata": {
        "id": "cOGe7FOl3IJH"
      },
      "execution_count": 26,
      "outputs": []
    },
    {
      "cell_type": "code",
      "source": [
        "df_pyspark.show()"
      ],
      "metadata": {
        "id": "5K0XEw493JAb",
        "colab": {
          "base_uri": "https://localhost:8080/"
        },
        "outputId": "d9fa7350-8a93-4f7b-c6e2-7129504b0ee4"
      },
      "execution_count": 29,
      "outputs": [
        {
          "output_type": "stream",
          "name": "stdout",
          "text": [
            "+------------------+---+---+--------+-----------+---+---+---+---+---+----+--------------------+\n",
            "|               _c0|_c1|_c2|     _c3|        _c4|_c5|_c6|_c7|_c8|_c9|_c10|                _c11|\n",
            "+------------------+---+---+--------+-----------+---+---+---+---+---+----+--------------------+\n",
            "|              Name|Rtg|Pos|    Card|     Nation|PAC|SHO|PAS|DRI|DEF| PHY|                Link|\n",
            "|      Lionel Messi| 98| CF|    toty|  Argentina| 97| 96| 92| 99| 48|  76|https://wefut.com...|\n",
            "|      Lionel Messi| 97| CF|goldblue|  Argentina| 96| 96| 90| 98| 47|  75|https://wefut.com...|\n",
            "| Cristiano Ronaldo| 97| LW|    toty|   Portugal| 96| 96| 86| 97| 53|  92|https://wefut.com...|\n",
            "| Cristiano Ronaldo| 96| LW|goldblue|   Portugal| 95| 96| 85| 95| 52|  91|https://wefut.com...|\n",
            "|           Iniesta| 96| CM|    toty|      Spain| 79| 76| 99| 97| 71|  60|https://wefut.com...|\n",
            "|      Lionel Messi| 96| CF|  goldif|  Argentina| 94| 92| 86| 97| 45|  74|https://wefut.com...|\n",
            "|           Iniesta| 95| CM|goldblue|      Spain| 79| 75| 97| 97| 71|  60|https://wefut.com...|\n",
            "|              Xavi| 95| CM|    toty|      Spain| 71| 79| 98| 93| 72|  58|https://wefut.com...|\n",
            "|      Lionel Messi| 95| CF|  goldif|  Argentina| 93| 90| 85| 96| 44|  73|https://wefut.com...|\n",
            "|              Xavi| 94| CM|goldblue|      Spain| 70| 78| 97| 91| 71|  58|https://wefut.com...|\n",
            "|Zlatan Ibrahimović| 94| ST|goldblue|     Sweden| 83| 96| 86| 92| 56|  85|https://wefut.com...|\n",
            "|     Franck Ribéry| 94| LM|goldblue|     France| 96| 89| 91| 96| 53|  62|https://wefut.com...|\n",
            "|            Falcao| 94| ST|    toty|   Colombia| 83| 90| 63| 83| 57|  96|https://wefut.com...|\n",
            "| Cristiano Ronaldo| 94| LW|  goldif|   Portugal| 94| 93| 83| 94| 50|  90|https://wefut.com...|\n",
            "|      Lionel Messi| 94| CF|goldrare|  Argentina| 93| 88| 84| 96| 43|  72|https://wefut.com...|\n",
            "|            Falcao| 93| ST|goldblue|   Colombia| 82| 89| 62| 83| 56|  95|https://wefut.com...|\n",
            "|       Gareth Bale| 93| LM|goldblue|      Wales| 96| 93| 89| 93| 81|  79|https://wefut.com...|\n",
            "|  Robin van Persie| 93| ST|goldblue|Netherlands| 84| 96| 88| 91| 55|  77|https://wefut.com...|\n",
            "|       Xabi Alonso| 93| CM|    toty|      Spain| 62| 79| 93| 76| 87|  72|https://wefut.com...|\n",
            "+------------------+---+---+--------+-----------+---+---+---+---+---+----+--------------------+\n",
            "only showing top 20 rows\n",
            "\n"
          ]
        }
      ]
    },
    {
      "cell_type": "code",
      "source": [
        "df_pyspark.head()"
      ],
      "metadata": {
        "id": "vpz9TXhP3IoL",
        "colab": {
          "base_uri": "https://localhost:8080/"
        },
        "outputId": "0a0d152e-ca8b-4e19-e364-01563fedd447"
      },
      "execution_count": 31,
      "outputs": [
        {
          "output_type": "execute_result",
          "data": {
            "text/plain": [
              "Row(_c0='Name', _c1='Rtg', _c2='Pos', _c3='Card', _c4='Nation', _c5='PAC', _c6='SHO', _c7='PAS', _c8='DRI', _c9='DEF', _c10='PHY', _c11='Link')"
            ]
          },
          "metadata": {},
          "execution_count": 31
        }
      ]
    },
    {
      "cell_type": "code",
      "source": [
        "## pick only one column\n",
        "\n",
        "df_pyspark.select(['_c0','_c1']).show()"
      ],
      "metadata": {
        "id": "5eJESkxD3Iz6",
        "colab": {
          "base_uri": "https://localhost:8080/"
        },
        "outputId": "bbc013d0-b9b8-4ffa-9e81-023c8d8a6b6a"
      },
      "execution_count": 38,
      "outputs": [
        {
          "output_type": "stream",
          "name": "stdout",
          "text": [
            "+------------------+---+\n",
            "|               _c0|_c1|\n",
            "+------------------+---+\n",
            "|              Name|Rtg|\n",
            "|      Lionel Messi| 98|\n",
            "|      Lionel Messi| 97|\n",
            "| Cristiano Ronaldo| 97|\n",
            "| Cristiano Ronaldo| 96|\n",
            "|           Iniesta| 96|\n",
            "|      Lionel Messi| 96|\n",
            "|           Iniesta| 95|\n",
            "|              Xavi| 95|\n",
            "|      Lionel Messi| 95|\n",
            "|              Xavi| 94|\n",
            "|Zlatan Ibrahimović| 94|\n",
            "|     Franck Ribéry| 94|\n",
            "|            Falcao| 94|\n",
            "| Cristiano Ronaldo| 94|\n",
            "|      Lionel Messi| 94|\n",
            "|            Falcao| 93|\n",
            "|       Gareth Bale| 93|\n",
            "|  Robin van Persie| 93|\n",
            "|       Xabi Alonso| 93|\n",
            "+------------------+---+\n",
            "only showing top 20 rows\n",
            "\n"
          ]
        }
      ]
    },
    {
      "cell_type": "code",
      "source": [
        "##\n",
        "df_pyspark.describe().show()"
      ],
      "metadata": {
        "id": "-EaH4hkA3JMd",
        "colab": {
          "base_uri": "https://localhost:8080/"
        },
        "outputId": "f2e3eb6d-ba11-40d4-e2c5-4906c480253b"
      },
      "execution_count": 40,
      "outputs": [
        {
          "output_type": "stream",
          "name": "stdout",
          "text": [
            "+-------+---------------+-----------------+-----+-----+--------+------------------+------------------+------------------+------------------+------------------+-----------------+--------------------+\n",
            "|summary|            _c0|              _c1|  _c2|  _c3|     _c4|               _c5|               _c6|               _c7|               _c8|               _c9|             _c10|                _c11|\n",
            "+-------+---------------+-----------------+-----+-----+--------+------------------+------------------+------------------+------------------+------------------+-----------------+--------------------+\n",
            "|  count|          12087|            12087|12087|12087|   12087|             12087|             12087|             12087|             12087|             12087|            12087|               12087|\n",
            "|   mean|           null|67.22066854211485| null| null|    null| 69.19204037729604|54.936620883667054|60.042280324342215| 62.63892106569585| 56.25963925202714|63.42040377296045|                null|\n",
            "| stddev|           null|7.686785790972271| null| null|    null|11.164461593441713| 14.24472973870206| 11.43300318521815|12.264753686804726|13.256313636255262|9.739524159777229|                null|\n",
            "|    min| A.J. DeLaGarza|               40|  CAM| Card| Albania|                21|                11|                13|                18|                24|               23|                Link|\n",
            "|    max|Łukasz Tymiński|              Rtg|   ST| toty|Zimbabwe|               PAC|               SHO|               PAS|               DRI|               DEF|              PHY|https://wefut.com...|\n",
            "+-------+---------------+-----------------+-----+-----+--------+------------------+------------------+------------------+------------------+------------------+-----------------+--------------------+\n",
            "\n"
          ]
        }
      ]
    },
    {
      "cell_type": "code",
      "source": [
        "##adding columns\n",
        "df_pyspark.withColumn()"
      ],
      "metadata": {
        "id": "keYBoc_NWeRf"
      },
      "execution_count": null,
      "outputs": []
    },
    {
      "cell_type": "code",
      "source": [],
      "metadata": {
        "id": "1tpZ34eAWelo"
      },
      "execution_count": null,
      "outputs": []
    },
    {
      "cell_type": "code",
      "source": [],
      "metadata": {
        "id": "5Ek3ie_vWe4I"
      },
      "execution_count": null,
      "outputs": []
    },
    {
      "cell_type": "code",
      "source": [],
      "metadata": {
        "id": "uFZjOdXgWfFl"
      },
      "execution_count": null,
      "outputs": []
    },
    {
      "cell_type": "code",
      "source": [],
      "metadata": {
        "id": "dy06iUQ_WfS8"
      },
      "execution_count": null,
      "outputs": []
    },
    {
      "cell_type": "code",
      "source": [],
      "metadata": {
        "id": "obDynwnjWfey"
      },
      "execution_count": null,
      "outputs": []
    },
    {
      "cell_type": "code",
      "source": [],
      "metadata": {
        "id": "AIHGMzrfWfp-"
      },
      "execution_count": null,
      "outputs": []
    },
    {
      "cell_type": "code",
      "source": [],
      "metadata": {
        "id": "o8ipu2LCWf0v"
      },
      "execution_count": null,
      "outputs": []
    },
    {
      "cell_type": "code",
      "source": [],
      "metadata": {
        "id": "ERarMnDHWgBH"
      },
      "execution_count": null,
      "outputs": []
    },
    {
      "cell_type": "code",
      "source": [],
      "metadata": {
        "id": "jaPlredj3JYI"
      },
      "execution_count": null,
      "outputs": []
    },
    {
      "cell_type": "code",
      "source": [],
      "metadata": {
        "id": "VkatUIbH3Ji3"
      },
      "execution_count": null,
      "outputs": []
    },
    {
      "cell_type": "code",
      "source": [],
      "metadata": {
        "id": "6Op24zS33Jr1"
      },
      "execution_count": null,
      "outputs": []
    },
    {
      "cell_type": "code",
      "source": [],
      "metadata": {
        "id": "AZZ1Jfc73J90"
      },
      "execution_count": null,
      "outputs": []
    }
  ]
}